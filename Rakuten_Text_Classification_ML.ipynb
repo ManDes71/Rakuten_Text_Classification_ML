{
 "cells": [
  {
   "cell_type": "code",
   "execution_count": 14,
   "id": "898041b3",
   "metadata": {},
   "outputs": [],
   "source": [
    "import pandas as pd\n",
    "import numpy as np\n",
    "import matplotlib.pyplot as plt\n",
    "from collections import Counter\n",
    "%matplotlib inline"
   ]
  },
  {
   "cell_type": "code",
   "execution_count": 15,
   "id": "dd92521a",
   "metadata": {},
   "outputs": [
    {
     "name": "stdout",
     "output_type": "stream",
     "text": [
      "numpy == 1.25.0\n",
      "pandas == 1.5.3\n"
     ]
    }
   ],
   "source": [
    "print(\"numpy ==\" ,np.__version__)\n",
    "print(\"pandas ==\" ,pd.__version__)\n"
   ]
  },
  {
   "cell_type": "code",
   "execution_count": 1,
   "id": "26f1523e",
   "metadata": {},
   "outputs": [
    {
     "name": "stdout",
     "output_type": "stream",
     "text": [
      "4.0\n",
      "2.0.9\n"
     ]
    }
   ],
   "source": [
    "import pickle\n",
    "print(pickle.format_version)\n",
    "import json\n",
    "print(json.__version__)"
   ]
  },
  {
   "cell_type": "code",
   "execution_count": 4,
   "id": "f1b7754b",
   "metadata": {},
   "outputs": [],
   "source": [
    "import Bibli_DataScience_3 as ds\n",
    "import ML_DataScience as ml\n"
   ]
  },
  {
   "cell_type": "code",
   "execution_count": null,
   "id": "a2cac392",
   "metadata": {},
   "outputs": [],
   "source": [
    "import nltk\n",
    "nltk.download('stopwords')"
   ]
  },
  {
   "cell_type": "code",
   "execution_count": null,
   "id": "deb94fce",
   "metadata": {},
   "outputs": [],
   "source": [
    "svc = ml.ML_SVC(\"Mon_Modele_SVC\")\n",
    "#chargement des donnees\n",
    "df_feat = svc.get_df_feats()\n",
    "# ajout du chemin des images dans le dataframe\n",
    "df = svc.get_DF()\n"
   ]
  },
  {
   "cell_type": "code",
   "execution_count": null,
   "id": "fe5a5e24",
   "metadata": {},
   "outputs": [],
   "source": [
    "df.head()"
   ]
  },
  {
   "cell_type": "code",
   "execution_count": null,
   "id": "3c1dd42f",
   "metadata": {},
   "outputs": [],
   "source": [
    "# entrainement et sauvegarde du modèle\n",
    "#svc.fit_modele(savefics=True,Train=\"Save\")"
   ]
  },
  {
   "cell_type": "code",
   "execution_count": null,
   "id": "3d44cca7",
   "metadata": {},
   "outputs": [],
   "source": [
    "# chargement du modele\n",
    "svc_mod=svc.load_modele()"
   ]
  },
  {
   "cell_type": "code",
   "execution_count": null,
   "id": "25a963ed",
   "metadata": {},
   "outputs": [],
   "source": [
    "X_test = ds.load_ndarray(\"X_test\")\n",
    "y_test = ds.load_ndarray(\"y_test\")\n",
    "X_test[:5]"
   ]
  },
  {
   "cell_type": "code",
   "execution_count": null,
   "id": "cb95575a",
   "metadata": {},
   "outputs": [],
   "source": [
    "df_cross = svc.get_df_cross()\n",
    "df_pred = svc.get_df_pred()\n",
    "df_pred.head(30)"
   ]
  },
  {
   "cell_type": "code",
   "execution_count": null,
   "id": "5d18a6f3",
   "metadata": {},
   "outputs": [],
   "source": [
    "y_orig = svc.get_y_orig()\n",
    "y_pred = svc.get_y_pred()\n",
    "_,_ = ds.get_classification_report(y_orig, y_pred)"
   ]
  },
  {
   "cell_type": "code",
   "execution_count": null,
   "id": "0ab3fb86",
   "metadata": {},
   "outputs": [],
   "source": [
    "ds.show_confusion_matrix(y_orig, y_pred)"
   ]
  },
  {
   "cell_type": "code",
   "execution_count": null,
   "id": "01a59390",
   "metadata": {},
   "outputs": [],
   "source": []
  },
  {
   "cell_type": "code",
   "execution_count": null,
   "id": "eeeb9e19",
   "metadata": {},
   "outputs": [],
   "source": []
  }
 ],
 "metadata": {
  "kernelspec": {
   "display_name": "Python 3 (ipykernel)",
   "language": "python",
   "name": "python3"
  },
  "language_info": {
   "codemirror_mode": {
    "name": "ipython",
    "version": 3
   },
   "file_extension": ".py",
   "mimetype": "text/x-python",
   "name": "python",
   "nbconvert_exporter": "python",
   "pygments_lexer": "ipython3",
   "version": "3.9.17"
  }
 },
 "nbformat": 4,
 "nbformat_minor": 5
}
