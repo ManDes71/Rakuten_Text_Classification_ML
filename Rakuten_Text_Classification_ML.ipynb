{
 "cells": [
  {
   "cell_type": "code",
   "execution_count": 14,
   "id": "898041b3",
   "metadata": {},
   "outputs": [],
   "source": [
    "import pandas as pd\n",
    "import numpy as np\n",
    "import matplotlib.pyplot as plt\n",
    "from collections import Counter\n",
    "%matplotlib inline"
   ]
  },
  {
   "cell_type": "code",
   "execution_count": 15,
   "id": "dd92521a",
   "metadata": {},
   "outputs": [
    {
     "name": "stdout",
     "output_type": "stream",
     "text": [
      "numpy == 1.25.0\n",
      "pandas == 1.5.3\n"
     ]
    }
   ],
   "source": [
    "print(\"numpy ==\" ,np.__version__)\n",
    "print(\"pandas ==\" ,pd.__version__)\n"
   ]
  },
  {
   "cell_type": "code",
   "execution_count": 1,
   "id": "26f1523e",
   "metadata": {},
   "outputs": [
    {
     "name": "stdout",
     "output_type": "stream",
     "text": [
      "4.0\n",
      "2.0.9\n"
     ]
    }
   ],
   "source": [
    "import pickle\n",
    "print(pickle.format_version)\n",
    "import json\n",
    "print(json.__version__)"
   ]
  },
  {
   "cell_type": "code",
   "execution_count": 4,
   "id": "f1b7754b",
   "metadata": {},
   "outputs": [],
   "source": [
    "import Bibli_DataScience_3 as ds\n",
    "import ML_DataScience as ml\n"
   ]
  },
  {
   "cell_type": "code",
   "execution_count": null,
   "id": "70d0f0c2",
   "metadata": {},
   "outputs": [],
   "source": [
    "svc = ml.ML_SVC(\"Mon_Modele_SVC\")\n",
    "df_feat = svc.get_df_feats()\n",
    "df = svc.get_DF()\n"
   ]
  }
 ],
 "metadata": {
  "kernelspec": {
   "display_name": "Python 3 (ipykernel)",
   "language": "python",
   "name": "python3"
  },
  "language_info": {
   "codemirror_mode": {
    "name": "ipython",
    "version": 3
   },
   "file_extension": ".py",
   "mimetype": "text/x-python",
   "name": "python",
   "nbconvert_exporter": "python",
   "pygments_lexer": "ipython3",
   "version": "3.9.17"
  }
 },
 "nbformat": 4,
 "nbformat_minor": 5
}
