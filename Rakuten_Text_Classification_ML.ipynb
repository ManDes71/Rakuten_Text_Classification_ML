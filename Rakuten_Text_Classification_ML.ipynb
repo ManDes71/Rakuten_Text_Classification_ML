{
 "cells": [
  {
   "cell_type": "code",
   "execution_count": 14,
   "id": "898041b3",
   "metadata": {},
   "outputs": [],
   "source": [
    "import pandas as pd\n",
    "import numpy as np\n",
    "import matplotlib.pyplot as plt\n",
    "from collections import Counter\n",
    "%matplotlib inline"
   ]
  },
  {
   "cell_type": "code",
   "execution_count": 15,
   "id": "dd92521a",
   "metadata": {},
   "outputs": [
    {
     "name": "stdout",
     "output_type": "stream",
     "text": [
      "numpy == 1.25.0\n",
      "pandas == 1.5.3\n"
     ]
    }
   ],
   "source": [
    "print(\"numpy ==\" ,np.__version__)\n",
    "print(\"pandas ==\" ,pd.__version__)\n"
   ]
  },
  {
   "cell_type": "code",
   "execution_count": 1,
   "id": "26f1523e",
   "metadata": {},
   "outputs": [
    {
     "name": "stdout",
     "output_type": "stream",
     "text": [
      "4.0\n",
      "2.0.9\n"
     ]
    }
   ],
   "source": [
    "import pickle\n",
    "print(pickle.format_version)\n",
    "import json\n",
    "print(json.__version__)"
   ]
  },
  {
   "cell_type": "code",
   "execution_count": 4,
   "id": "f1b7754b",
   "metadata": {},
   "outputs": [],
   "source": [
    "import Bibli_DataScience_3 as ds\n",
    "import ML_DataScience as ml\n"
   ]
  },
  {
   "cell_type": "code",
   "execution_count": null,
   "id": "4532f03b",
   "metadata": {},
   "outputs": [],
   "source": [
    "import nltk\n",
    "nltk.download('stopwords')"
   ]
  },
  {
   "cell_type": "code",
   "execution_count": null,
   "id": "cf9d95f2",
   "metadata": {},
   "outputs": [],
   "source": [
    "svc = ml.ML_SVC(\"Mon_Modele_SVC\")\n",
    "#chargement des donnees\n",
    "df_feat = svc.get_df_feats()\n",
    "# ajout du chemin des images dans le dataframe\n",
    "df = svc.get_DF()\n"
   ]
  },
  {
   "cell_type": "code",
   "execution_count": null,
   "id": "78594929",
   "metadata": {},
   "outputs": [],
   "source": [
    "df.head()"
   ]
  },
  {
   "cell_type": "markdown",
   "id": "0a608c12",
   "metadata": {},
   "source": [
    "## SVC"
   ]
  },
  {
   "cell_type": "code",
   "execution_count": null,
   "id": "2ab918ab",
   "metadata": {},
   "outputs": [],
   "source": [
    "# entrainement et sauvegarde du modèle\n",
    "#svc.fit_modele(savefics=True,Train=\"Save\")"
   ]
  },
  {
   "cell_type": "code",
   "execution_count": null,
   "id": "9d6f38b4",
   "metadata": {},
   "outputs": [],
   "source": [
    "# chargement du modele\n",
    "svc_mod=svc.load_modele()"
   ]
  },
  {
   "cell_type": "code",
   "execution_count": null,
   "id": "7bea826d",
   "metadata": {},
   "outputs": [],
   "source": [
    "X_test = ds.load_ndarray(\"X_test\")\n",
    "y_test = ds.load_ndarray(\"y_test\")\n",
    "X_test[:5]"
   ]
  },
  {
   "cell_type": "code",
   "execution_count": null,
   "id": "7aa52129",
   "metadata": {},
   "outputs": [],
   "source": [
    "df_cross = svc.get_df_cross()\n",
    "df_pred = svc.get_df_pred()\n",
    "df_pred.head(30)"
   ]
  },
  {
   "cell_type": "code",
   "execution_count": null,
   "id": "34cb7f79",
   "metadata": {},
   "outputs": [],
   "source": [
    "y_orig = svc.get_y_orig()\n",
    "y_pred = svc.get_y_pred()\n",
    "_,_ = ds.get_classification_report(y_orig, y_pred)"
   ]
  },
  {
   "cell_type": "code",
   "execution_count": null,
   "id": "ac9fe8a4",
   "metadata": {},
   "outputs": [],
   "source": [
    "ds.show_confusion_matrix(y_orig, y_pred)"
   ]
  },
  {
   "cell_type": "code",
   "execution_count": null,
   "id": "3c7de241",
   "metadata": {},
   "outputs": [],
   "source": [
    "Lcat=svc.get_cat()\n",
    "catdict = svc.get_catdict()\n",
    "ds.Afficher_repartition(df_cross,Lcat,catdict)"
   ]
  },
  {
   "cell_type": "code",
   "execution_count": null,
   "id": "aa5681ab",
   "metadata": {},
   "outputs": [],
   "source": [
    "df_test = pd.concat([X_test,y_test],axis=1)\n",
    "from collections import Counter\n",
    "\n",
    "# Créez un DataFrame df_test ici. Dans votre cas, vous avez déjà ce DataFrame.\n",
    "\n",
    "# Groupement des données par 'prdtypecode'\n",
    "grouped = df_test.groupby('prdtypecode')\n",
    "\n",
    "# Dictionnaire pour stocker les mots les plus fréquents par 'prdtypecode'\n",
    "most_common_words_by_code = {}\n",
    "\n",
    "for name, group in grouped:\n",
    "    # Combinez toutes les phrases en une seule chaîne de texte\n",
    "    all_text = ' '.join(group['phrases'])\n",
    "    \n",
    "    # Séparez la chaîne en mots\n",
    "    words = all_text.split()\n",
    "    \n",
    "    # Comptez les occurrences de chaque mot\n",
    "    word_count = Counter(words)\n",
    "    \n",
    "    # Obtenez les 40 mots les plus communs\n",
    "    most_common_words = word_count.most_common(40)\n",
    "    \n",
    "    # Stockez le résultat dans le dictionnaire\n",
    "    most_common_words_by_code[name] = most_common_words\n",
    "\n",
    "# Affichez les résultats\n",
    "for code, words in most_common_words_by_code.items():\n",
    "    print(f\"Pour le prdtypecode {code}, les 40 mots les plus fréquents sont :\")\n",
    "    print(words)\n",
    "    print(\"---\")\n",
    "\n"
   ]
  },
  {
   "cell_type": "markdown",
   "id": "efed24d0",
   "metadata": {},
   "source": [
    "### Catégorie 10, 2705, 2280, 2403 repartition des mots"
   ]
  },
  {
   "cell_type": "code",
   "execution_count": null,
   "id": "f08b40d9",
   "metadata": {},
   "outputs": [],
   "source": [
    "### mots les plus présents dans l'ensemble de ces 4 categories\n",
    "\n",
    "selected_categories = [10, 2705, 2280, 2403]\n",
    "filtered_df = df_test[df_test['prdtypecode'].isin(selected_categories)]\n",
    "\n",
    "all_text = ' '.join(filtered_df['phrases'])\n",
    "\n",
    "\n",
    "word_count = Counter(all_text.split())\n",
    "occurrences_triees = sorted(word_count.items(), key=lambda x: x[1], reverse=True)[:40]\n",
    "\n",
    "Dic_words={}\n",
    "for item in occurrences_triees:\n",
    "    Dic_words[item[0]]=item[1]\n",
    "#  \n",
    "df_words=pd.DataFrame.from_dict(Dic_words, orient='index',columns=['Total'])\n",
    "\n",
    "df_total_livres=df_words\n",
    "for c in [10,2705,2280,2403]:\n",
    "    filtered_df = df_test[df_test['prdtypecode']==c]\n",
    "    all_text = ' '.join(filtered_df['phrases'])\n",
    "  \n",
    "    word_count = Counter(all_text.split())\n",
    "    occurrences_triees = sorted(word_count.items(), key=lambda x: x[1], reverse=True)[:40]\n",
    "    Dic_words={}\n",
    "    for item in occurrences_triees:\n",
    "        Dic_words[item[0]]=item[1]\n",
    "    df_words_X=pd.DataFrame.from_dict(Dic_words, orient='index',columns=[str(c)])    \n",
    "    df_total_livres=df_total_livres.join(df_words_X)\n",
    "df_total_livres.head(20)"
   ]
  },
  {
   "cell_type": "markdown",
   "id": "81872b9b",
   "metadata": {},
   "source": [
    "## LogisticRegression"
   ]
  },
  {
   "cell_type": "code",
   "execution_count": null,
   "id": "47aa79a1",
   "metadata": {},
   "outputs": [],
   "source": [
    "lr = ml.ML_LogisticRegression(\"LogisticRegression\")"
   ]
  },
  {
   "cell_type": "code",
   "execution_count": null,
   "id": "072a154d",
   "metadata": {},
   "outputs": [],
   "source": [
    "#entrainement et sauvegarde du modèle\n",
    "#lr.fit_modele(savefics=True,Train=\"Save\")"
   ]
  },
  {
   "cell_type": "code",
   "execution_count": null,
   "id": "bcd59b34",
   "metadata": {},
   "outputs": [],
   "source": [
    "# chargement du modele\n",
    "lr_mod=lr.load_modele()"
   ]
  },
  {
   "cell_type": "code",
   "execution_count": null,
   "id": "7018e19c",
   "metadata": {},
   "outputs": [],
   "source": [
    "df_cross = lr.get_df_cross()\n",
    "df_pred = lr.get_df_pred()\n",
    "df_pred"
   ]
  },
  {
   "cell_type": "code",
   "execution_count": null,
   "id": "fd8283e2",
   "metadata": {},
   "outputs": [],
   "source": []
  },
  {
   "cell_type": "markdown",
   "id": "721190b4",
   "metadata": {},
   "source": [
    "## RandomForestClassifier¶"
   ]
  },
  {
   "cell_type": "code",
   "execution_count": null,
   "id": "80b588e6",
   "metadata": {},
   "outputs": [],
   "source": [
    "forest = ml.ML_RandomForest(\"RandomForestClassifier\")"
   ]
  },
  {
   "cell_type": "code",
   "execution_count": null,
   "id": "e853e7e6",
   "metadata": {},
   "outputs": [],
   "source": [
    "#entrainement et sauvegarde du modèle\n",
    "forest.fit_modele(savefics=True,Train=\"load\")"
   ]
  },
  {
   "cell_type": "code",
   "execution_count": null,
   "id": "02421a9b",
   "metadata": {},
   "outputs": [],
   "source": [
    "# chargement du modele\n",
    "forest_mod =forest.load_modele() "
   ]
  },
  {
   "cell_type": "code",
   "execution_count": null,
   "id": "3e4f7ebf",
   "metadata": {},
   "outputs": [],
   "source": []
  },
  {
   "cell_type": "code",
   "execution_count": null,
   "id": "2dc4b611",
   "metadata": {},
   "outputs": [],
   "source": []
  },
  {
   "cell_type": "code",
   "execution_count": null,
   "id": "62ecb048",
   "metadata": {},
   "outputs": [],
   "source": []
  },
  {
   "cell_type": "code",
   "execution_count": null,
   "id": "065ac857",
   "metadata": {},
   "outputs": [],
   "source": []
  }
 ],
 "metadata": {
  "kernelspec": {
   "display_name": "Python 3 (ipykernel)",
   "language": "python",
   "name": "python3"
  },
  "language_info": {
   "codemirror_mode": {
    "name": "ipython",
    "version": 3
   },
   "file_extension": ".py",
   "mimetype": "text/x-python",
   "name": "python",
   "nbconvert_exporter": "python",
   "pygments_lexer": "ipython3",
   "version": "3.9.17"
  }
 },
 "nbformat": 4,
 "nbformat_minor": 5
}
